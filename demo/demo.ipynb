{
 "cells": [
  {
   "cell_type": "code",
   "execution_count": 2,
   "metadata": {},
   "outputs": [],
   "source": [
    "import tensorflow as tf\n",
    "import numpy as np\n",
    "import gradio as gr\n",
    "from skimage.transform import resize\n",
    "from keras import utils"
   ]
  },
  {
   "cell_type": "code",
   "execution_count": 3,
   "metadata": {},
   "outputs": [
    {
     "name": "stdout",
     "output_type": "stream",
     "text": [
      "[{'name': 'serving_default_conv2d_6_input:0', 'index': 0, 'shape': array([  1, 224, 224,   3]), 'shape_signature': array([ -1, 224, 224,   3]), 'dtype': <class 'numpy.float32'>, 'quantization': (0.0, 0), 'quantization_parameters': {'scales': array([], dtype=float32), 'zero_points': array([], dtype=int32), 'quantized_dimension': 0}, 'sparsity_parameters': {}}]\n",
      "[{'name': 'StatefulPartitionedCall:0', 'index': 25, 'shape': array([1, 4]), 'shape_signature': array([-1,  4]), 'dtype': <class 'numpy.float32'>, 'quantization': (0.0, 0), 'quantization_parameters': {'scales': array([], dtype=float32), 'zero_points': array([], dtype=int32), 'quantized_dimension': 0}, 'sparsity_parameters': {}}]\n"
     ]
    }
   ],
   "source": [
    "# Load saved model from model.tflite file\n",
    "interpreter = tf.lite.Interpreter(model_path=\"../model.tflite\")\n",
    "interpreter.allocate_tensors()\n",
    "\n",
    "print(interpreter.get_input_details())\n",
    "print(interpreter.get_output_details())"
   ]
  },
  {
   "cell_type": "code",
   "execution_count": 4,
   "metadata": {},
   "outputs": [],
   "source": [
    "# Classifier\n",
    "input_details = interpreter.get_input_details()\n",
    "output_details = interpreter.get_output_details()\n",
    "input_shape = input_details[0]['shape']\n",
    "\n",
    "def classify_img(img):\n",
    "    # preprocessing: resizing to appropriate shape, making pixel values between 0 and 1\n",
    "    resized = resize(img, (224, 224))\n",
    "    new_arr = resized.astype(np.float32)\n",
    "\n",
    "    interpreter.set_tensor(input_details[0]['index'], [new_arr])\n",
    "    interpreter.invoke()\n",
    "    output_data = interpreter.get_tensor(output_details[0]['index'])\n",
    "    \n",
    "    results = {}\n",
    "    results[\"Heavy damage\"] = output_data[0][0]\n",
    "    results[\"Minor damage\"] = output_data[0][1]\n",
    "    results[\"Moderate damage\"] = output_data[0][2]\n",
    "    results[\"Undamaged\"] = output_data[0][3]\n",
    "    return results"
   ]
  },
  {
   "cell_type": "code",
   "execution_count": 4,
   "metadata": {},
   "outputs": [
    {
     "name": "stdout",
     "output_type": "stream",
     "text": [
      "Running on local URL:  http://127.0.0.1:7860\n",
      "\n",
      "To create a public link, set `share=True` in `launch()`.\n"
     ]
    },
    {
     "data": {
      "text/html": [
       "<div><iframe src=\"http://127.0.0.1:7860/\" width=\"100%\" height=\"500\" allow=\"autoplay; camera; microphone; clipboard-read; clipboard-write;\" frameborder=\"0\" allowfullscreen></iframe></div>"
      ],
      "text/plain": [
       "<IPython.core.display.HTML object>"
      ]
     },
     "metadata": {},
     "output_type": "display_data"
    },
    {
     "data": {
      "text/plain": []
     },
     "execution_count": 4,
     "metadata": {},
     "output_type": "execute_result"
    }
   ],
   "source": [
    "# Create demo with Gradio\n",
    "demo = gr.Interface(fn=classify_img, inputs=gr.Image(type=\"numpy\"), outputs=\"label\")\n",
    "demo.launch()"
   ]
  },
  {
   "cell_type": "code",
   "execution_count": 43,
   "metadata": {},
   "outputs": [
    {
     "name": "stdout",
     "output_type": "stream",
     "text": [
      "Heavy damage had a 76.60 percent accuracy.\n",
      "Minor damage had a 55.91 percent accuracy.\n",
      "Moderate damage had a 38.46 percent accuracy.\n",
      "Undamaged had a 71.01 percent accuracy.\n"
     ]
    }
   ],
   "source": [
    "# Finding accuracy per category\n",
    "\n",
    "# Load dataset\n",
    "test_images = np.load(\"../dataset/task7_X_test.npy\")\n",
    "test_labels = np.load(\"../dataset/task7_y_test.npy\")\n",
    "\n",
    "# Normalize\n",
    "def normalize(images):\n",
    "    return (images + 123.68)/274.75\n",
    "test_images = normalize(test_images)\n",
    "\n",
    "# Reformat the labels to be 0-3 and categorical instead of [1, 0, 0, 0]-[0, 0, 0, 1]\n",
    "def re_format(old_labels):\n",
    "    labels = np.zeros((old_labels.shape[0], 1))\n",
    "    for i in range(len(old_labels)):\n",
    "        for j in range(len(old_labels[i])):\n",
    "            if old_labels[i][j] == 1:\n",
    "                labels[i] = j\n",
    "                break\n",
    "    return labels\n",
    "test_labels_f = re_format(test_labels)\n",
    "test_labels = utils.to_categorical(test_labels_f, 4)\n",
    "\n",
    "# predict each test image\n",
    "correct = [0, 0, 0, 0]\n",
    "total = [0, 0, 0, 0]\n",
    "for i in range(0,len(test_images)):\n",
    "    # format labels\n",
    "    label_names = [\"Heavy damage\", \"Minor damage\", \"Moderate damage\", \"Undamaged\"]\n",
    "    label_index = 0\n",
    "    for j in range(len(test_labels[i])):\n",
    "        if test_labels[i][j] == 1:\n",
    "            label_index = j\n",
    "            break\n",
    "    label = label_names[label_index]\n",
    "\n",
    "    # predict\n",
    "    score = classify_img(test_images[i])\n",
    "\n",
    "    # find best prediction\n",
    "    max = 0\n",
    "    lmax = \"\"\n",
    "    for l in label_names:\n",
    "        if score[l] > max:\n",
    "            max = score[l]\n",
    "            lmax = l\n",
    "\n",
    "    # record if correct based on label\n",
    "    if lmax == label:\n",
    "        correct[label_index] += 1\n",
    "        total[label_index] += 1\n",
    "    else:\n",
    "        total[label_index] += 1\n",
    "\n",
    "# report accuracies \n",
    "for i in range(0,4):\n",
    "    print(\"{} had a {:.2f} percent accuracy.\"\n",
    "      .format(label_names[i], (correct[i] / total[i]) * 100))\n"
   ]
  }
 ],
 "metadata": {
  "kernelspec": {
   "display_name": "structural-classification",
   "language": "python",
   "name": "python3"
  },
  "language_info": {
   "codemirror_mode": {
    "name": "ipython",
    "version": 3
   },
   "file_extension": ".py",
   "mimetype": "text/x-python",
   "name": "python",
   "nbconvert_exporter": "python",
   "pygments_lexer": "ipython3",
   "version": "3.10.5"
  }
 },
 "nbformat": 4,
 "nbformat_minor": 2
}
