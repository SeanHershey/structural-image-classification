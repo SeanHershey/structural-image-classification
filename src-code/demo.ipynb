{
 "cells": [
  {
   "cell_type": "code",
   "execution_count": 14,
   "metadata": {},
   "outputs": [],
   "source": [
    "import tensorflow as tf\n",
    "import numpy as np\n",
    "import gradio as gr\n",
    "from PIL import Image as im\n",
    "import matplotlib.pyplot as plt"
   ]
  },
  {
   "cell_type": "code",
   "execution_count": 3,
   "metadata": {},
   "outputs": [],
   "source": [
    "# load saved model from model.tflite file\n",
    "interpreter = tf.lite.Interpreter(model_path=\"../model.tflite\")\n",
    "interpreter.allocate_tensors()"
   ]
  },
  {
   "cell_type": "code",
   "execution_count": 5,
   "metadata": {},
   "outputs": [
    {
     "name": "stdout",
     "output_type": "stream",
     "text": [
      "<class 'tensorflow.lite.python.interpreter.Interpreter'>\n",
      "[{'name': 'serving_default_conv2d_78_input:0', 'index': 0, 'shape': array([  1, 224, 224,   3]), 'shape_signature': array([ -1, 224, 224,   3]), 'dtype': <class 'numpy.float32'>, 'quantization': (0.0, 0), 'quantization_parameters': {'scales': array([], dtype=float32), 'zero_points': array([], dtype=int32), 'quantized_dimension': 0}, 'sparsity_parameters': {}}]\n",
      "[{'name': 'StatefulPartitionedCall:0', 'index': 33, 'shape': array([1, 4]), 'shape_signature': array([-1,  4]), 'dtype': <class 'numpy.float32'>, 'quantization': (0.0, 0), 'quantization_parameters': {'scales': array([], dtype=float32), 'zero_points': array([], dtype=int32), 'quantized_dimension': 0}, 'sparsity_parameters': {}}]\n"
     ]
    }
   ],
   "source": [
    "print(type(interpreter))\n",
    "print(interpreter.get_input_details())\n",
    "print(interpreter.get_output_details())"
   ]
  },
  {
   "cell_type": "code",
   "execution_count": 45,
   "metadata": {},
   "outputs": [
    {
     "name": "stdout",
     "output_type": "stream",
     "text": [
      "[1. 0. 0. 0.]\n",
      "[0. 1. 0. 0.]\n",
      "[0. 0. 1. 0.]\n",
      "[0. 0. 0. 1.]\n"
     ]
    }
   ],
   "source": [
    "# generate img jpgs from test set\n",
    "test_images = np.load(\"../dataset/task7_X_test.npy\")\n",
    "test_labels = np.load(\"../dataset/task7_y_test.npy\")\n",
    "\n",
    "test_images = (test_images + 123.68)/274.75   # normalization\n",
    "test_images *= 255\n",
    "test_images = test_images.astype(np.uint8)\n",
    "\n",
    "print(test_labels[0])\n",
    "print(test_labels[130])\n",
    "print(test_labels[260])\n",
    "print(test_labels[390])\n",
    "\n",
    "def save_image(np_array, filename):\n",
    "    img = im.fromarray(np_array)\n",
    "    img.convert(\"RGB\").save(filename)\n",
    "\n",
    "save_image(test_images[0], \"heavy_damage.jpg\")\n",
    "save_image(test_images[130], \"minor_damage.jpg\")\n",
    "save_image(test_images[260], \"moderate_damage.jpg\")\n",
    "save_image(test_images[390], \"undamaged.jpg\")\n"
   ]
  },
  {
   "cell_type": "code",
   "execution_count": 78,
   "metadata": {},
   "outputs": [],
   "source": [
    "from skimage.transform import resize\n",
    "\n",
    "resized = resize(test_images[390], (224, 224))\n",
    "save_image((resized*255).astype(np.uint8), \"test.jpg\")"
   ]
  },
  {
   "cell_type": "code",
   "execution_count": 79,
   "metadata": {},
   "outputs": [
    {
     "name": "stdout",
     "output_type": "stream",
     "text": [
      "{'Heavy damage': 0.4104678, 'Minor damage': 0.07655419, 'Moderate damage': 0.4881688, 'Undamaged damage': 0.024809109}\n"
     ]
    }
   ],
   "source": [
    "from skimage.transform import resize\n",
    "\n",
    "input_details = interpreter.get_input_details()\n",
    "output_details = interpreter.get_output_details()\n",
    "input_shape = input_details[0]['shape']\n",
    "\n",
    "def classify_img(img):\n",
    "    # preprocessing: resizing to appropriate shape, making pixel values between 0 and 1\n",
    "    resized = resize(img, (224, 224))\n",
    "    new_arr = resized.astype(np.float32)\n",
    "    #print(resized.shape)\n",
    "    #new_arr = resized.astype(np.float32)\n",
    "    #new_arr /= 255\n",
    "\n",
    "    interpreter.set_tensor(input_details[0]['index'], [new_arr])\n",
    "    interpreter.invoke()\n",
    "    output_data = interpreter.get_tensor(output_details[0]['index'])\n",
    "    \n",
    "    results = {}\n",
    "    results[\"Heavy damage\"] = output_data[0][0]\n",
    "    results[\"Minor damage\"] = output_data[0][1]\n",
    "    results[\"Moderate damage\"] = output_data[0][2]\n",
    "    results[\"Undamaged damage\"] = output_data[0][3]\n",
    "    return results\n",
    "\n",
    "print(classify_img(test_images[0]))"
   ]
  },
  {
   "cell_type": "code",
   "execution_count": 82,
   "metadata": {},
   "outputs": [
    {
     "name": "stdout",
     "output_type": "stream",
     "text": [
      "Running on local URL:  http://127.0.0.1:7867\n",
      "\n",
      "To create a public link, set `share=True` in `launch()`.\n"
     ]
    },
    {
     "data": {
      "text/html": [
       "<div><iframe src=\"http://127.0.0.1:7867/\" width=\"100%\" height=\"500\" allow=\"autoplay; camera; microphone; clipboard-read; clipboard-write;\" frameborder=\"0\" allowfullscreen></iframe></div>"
      ],
      "text/plain": [
       "<IPython.core.display.HTML object>"
      ]
     },
     "metadata": {},
     "output_type": "display_data"
    },
    {
     "data": {
      "text/plain": []
     },
     "execution_count": 82,
     "metadata": {},
     "output_type": "execute_result"
    }
   ],
   "source": [
    "# creating demo with Gradio\n",
    "demo = gr.Interface(fn=classify_img, inputs=gr.Image(type=\"numpy\"), outputs=\"label\")\n",
    "demo.launch()"
   ]
  }
 ],
 "metadata": {
  "kernelspec": {
   "display_name": "structural-classification",
   "language": "python",
   "name": "python3"
  },
  "language_info": {
   "codemirror_mode": {
    "name": "ipython",
    "version": 3
   },
   "file_extension": ".py",
   "mimetype": "text/x-python",
   "name": "python",
   "nbconvert_exporter": "python",
   "pygments_lexer": "ipython3",
   "version": "3.9.18"
  }
 },
 "nbformat": 4,
 "nbformat_minor": 2
}
